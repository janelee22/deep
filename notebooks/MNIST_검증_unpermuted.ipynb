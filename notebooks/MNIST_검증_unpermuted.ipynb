{
  "nbformat": 4,
  "nbformat_minor": 0,
  "metadata": {
    "colab": {
      "provenance": [],
      "toc_visible": true,
      "collapsed_sections": [
        "tS1duU1rS-3J",
        "RHDUuidnaLTo"
      ],
      "machine_shape": "hm",
      "gpuType": "V100"
    },
    "kernelspec": {
      "name": "python3",
      "display_name": "Python 3"
    },
    "language_info": {
      "name": "python"
    },
    "accelerator": "GPU"
  },
  "cells": [
    {
      "cell_type": "markdown",
      "source": [
        "#import"
      ],
      "metadata": {
        "id": "qhA6S8P7S7pB"
      }
    },
    {
      "cell_type": "code",
      "execution_count": 1,
      "metadata": {
        "id": "16FfKdjhSsiL"
      },
      "outputs": [],
      "source": [
        "import copy\n",
        "import itertools\n",
        "import numpy as np\n",
        "import tensorflow as tf\n",
        "from tensorflow.nn import softmax\n",
        "from tensorflow.keras.models import Model\n",
        "from tensorflow.keras.layers import Dense, SimpleRNNCell,Flatten\n",
        "from tensorflow.keras import Input\n",
        "from tensorflow.keras.layers import RNN, SimpleRNNCell, LSTMCell, GRUCell"
      ]
    },
    {
      "cell_type": "code",
      "source": [
        "from tensorflow.keras.datasets import mnist\n",
        "from tensorflow.keras.utils import to_categorical\n",
        "import numpy as np\n",
        "from sklearn.cluster import KMeans"
      ],
      "metadata": {
        "id": "wIojlSiSSxT0"
      },
      "execution_count": 2,
      "outputs": []
    },
    {
      "cell_type": "code",
      "source": [
        "from tensorflow.keras.losses import CategoricalCrossentropy\n",
        "from tensorflow.keras.optimizers import Adam"
      ],
      "metadata": {
        "id": "E9t0ABkmSyix"
      },
      "execution_count": 3,
      "outputs": []
    },
    {
      "cell_type": "code",
      "source": [
        "from tensorflow.keras.layers import Dense, Flatten, SimpleRNNCell, Conv2D"
      ],
      "metadata": {
        "id": "xsQw6E9eSz3c"
      },
      "execution_count": 4,
      "outputs": []
    },
    {
      "cell_type": "code",
      "source": [
        "import random"
      ],
      "metadata": {
        "id": "dnYvkT0jVWZY"
      },
      "execution_count": 5,
      "outputs": []
    },
    {
      "cell_type": "markdown",
      "source": [
        "#DRNN"
      ],
      "metadata": {
        "id": "tS1duU1rS-3J"
      }
    },
    {
      "cell_type": "code",
      "source": [
        "def dRNN(cell, inputs, rate, scope='default'):\n",
        "\n",
        "    n_steps = len(inputs)\n",
        "    if rate < 0 or rate >= n_steps:\n",
        "        raise ValueError('The \\'rate\\' variable needs to be adjusted.')\n",
        "    print(\"Building layer: %s, input length: %d, dilation rate: %d, input dim: %d.\" % (scope, n_steps, rate, inputs[0].shape[1]))\n",
        "\n",
        "    # make the length of inputs divide 'rate', by using zero-padding\n",
        "\n",
        "    EVEN = (n_steps % rate) == 0\n",
        "    if not EVEN:\n",
        "        # Create a tensor in shape (batch_size, input_dims), which all elements are zero.\n",
        "        # This is used for zero padding\n",
        "        zero_tensor = tf.zeros_like(inputs[0])\n",
        "        dialated_n_steps = n_steps // rate + 1\n",
        "        print(\"=====> %d time points need to be padded. \" % (dialated_n_steps * rate - n_steps))\n",
        "        print(\"=====> Input length for sub-RNN: %d\" % (dialated_n_steps))\n",
        "        for i_pad in range(dialated_n_steps * rate - n_steps):\n",
        "            inputs.append(zero_tensor)\n",
        "    else:\n",
        "        dialated_n_steps = n_steps // rate\n",
        "        print(\"=====> Input length for sub-RNN: %d\" % (dialated_n_steps))\n",
        "\n",
        "\n",
        "    dilated_inputs = [tf.concat(inputs[i * rate:(i + 1) * rate], axis=0) for i in range(dialated_n_steps)]\n",
        "\n",
        "\n",
        "    # building a dilated RNN with reformatted (dilated) inputs\n",
        "    dilated_outputs = tf.keras.layers.RNN(cell, return_sequences=True, return_state=False, go_backwards=False,\n",
        "                                          stateful=False, time_major=True, unroll=False, input_shape=(dialated_n_steps, inputs[0].shape[1]),\n",
        "                                          name=scope)(tf.stack(dilated_inputs))\n",
        "\n",
        "\n",
        "    splitted_outputs = tf.split(dilated_outputs, num_or_size_splits=rate, axis=1)\n",
        "    # unrolled_outputs = [output for sublist in splitted_outputs for output in sublist]\n",
        "    unrolled_outputs = tf.unstack(tf.concat(splitted_outputs, axis=0))\n",
        "    # remove padded zeros\n",
        "    outputs = unrolled_outputs[:n_steps]\n",
        "\n",
        "    return outputs"
      ],
      "metadata": {
        "id": "KNTARuGxS-SP"
      },
      "execution_count": 6,
      "outputs": []
    },
    {
      "cell_type": "markdown",
      "source": [
        "#Mymodel"
      ],
      "metadata": {
        "id": "RHDUuidnaLTo"
      }
    },
    {
      "cell_type": "code",
      "source": [
        "###이전 모델_러닝하지 말 것\n",
        "\n",
        "# class MyModel(Model):\n",
        "#     def __init__(self,  n_classes, rate):\n",
        "#         super(MyModel, self).__init__()\n",
        "#         self.softmax = tf.keras.activations.softmax\n",
        "#         self.cells = [LSTMCell(50) for _ in range(5)]\n",
        "#         self.rate = rate\n",
        "#         self.classifier = Dense(n_classes, activation='softmax')\n",
        "#         self.dense1 = Dense(128, activation='relu')\n",
        "\n",
        "#         self.flatten=Flatten()\n",
        "\n",
        "#     def call(self, x):\n",
        "#         for i in range(5):\n",
        "#             x = dRNN(self.cells[i], x, 2**i)\n",
        "\n",
        "#         x = self.dense1(x[-1])\n",
        "\n",
        "#         return  self.classifier(x)"
      ],
      "metadata": {
        "id": "_TKvHEtOS-VY"
      },
      "execution_count": null,
      "outputs": []
    },
    {
      "cell_type": "markdown",
      "source": [
        "#Reformat"
      ],
      "metadata": {
        "id": "U7-8kuk3aQAl"
      }
    },
    {
      "cell_type": "code",
      "source": [
        "### 이전 모델기준 러닝하지 말 것\n",
        "\n",
        "# (train_images, train_labels), (test_images, test_labels) = mnist.load_data()\n",
        "# train_labels_categorical = to_categorical(train_labels)\n",
        "# test_labels_categorical = to_categorical(test_labels)\n",
        "# # Reshape the data to 2D for SimpleRNN\n",
        "# train_images = train_images.reshape((train_images.shape[0], 28*28,1 ))\n",
        "# test_images = test_images.reshape((test_images.shape[0], 28*28, 1))\n",
        "\n",
        "# # Scale the data\n",
        "# train_images = train_images / 255.0"
      ],
      "metadata": {
        "id": "pmQQp_YBS-Zq"
      },
      "execution_count": null,
      "outputs": []
    },
    {
      "cell_type": "code",
      "source": [
        "# def _rnn_reformat(x, input_dims, n_steps):\n",
        "\n",
        "\n",
        "#     x_ = tf.transpose(x, [1, 0, 2])\n",
        "\n",
        "#     x_ = tf.reshape(x_, [-1, input_dims])\n",
        "\n",
        "#     x_reformat = tf.split(x_, n_steps, 0)\n",
        "\n",
        "#     return x_reformat"
      ],
      "metadata": {
        "id": "569q6_tvTHt2"
      },
      "execution_count": null,
      "outputs": []
    },
    {
      "cell_type": "markdown",
      "source": [
        "#수정Mymodel"
      ],
      "metadata": {
        "id": "bDYOyreWeCJO"
      }
    },
    {
      "cell_type": "code",
      "source": [
        "class MyModel(Model):\n",
        "    def __init__(self,  n_classes):\n",
        "        super(MyModel, self).__init__()\n",
        "\n",
        "\n",
        "\n",
        "\n",
        "        self.softmax = tf.keras.activations.softmax\n",
        "        self.cells = [LSTMCell(20) for _ in range(9)]\n",
        "\n",
        "        self.classifier = Dense(n_classes, activation='softmax')\n",
        "        self.dense1 = Dense(128, activation='relu')\n",
        "        self.flatten=Flatten()\n",
        "        self.conv2= Conv2D(filters=10, kernel_size=(1, 4), strides=(1, 1), padding='valid')\n",
        "\n",
        "    def call(self, x):\n",
        "        for i in range(4,9):\n",
        "            x = dRNN(self.cells[i], list(x), 2**i)\n",
        "\n",
        "\n",
        "\n",
        "\n",
        "\n",
        "        x = tf.stack(x, axis=-1)\n",
        "        x = tf.expand_dims(x, axis=1)\n",
        "\n",
        "        x =self.conv2(x)\n",
        "        x=self.flatten(x)\n",
        "\n",
        "        return  self.classifier(x)"
      ],
      "metadata": {
        "id": "6_GDjPOMaHfg"
      },
      "execution_count": 7,
      "outputs": []
    },
    {
      "cell_type": "markdown",
      "source": [
        "#검증실험1"
      ],
      "metadata": {
        "id": "ha7N3OBhraa6"
      }
    },
    {
      "cell_type": "code",
      "source": [
        "#min_dilation==4로 설정\n",
        "#마지막에 min_dilation에 대한 conv_layer 추가\n",
        "#클러스터링_과적합 소견\n",
        "#drnn 반영\n",
        "\n",
        "###유사도 기준 데이터 클러스터링 실험1\n",
        "#유사도가 높은 데이터가 모두 unit 1,2,3,4에 들어감"
      ],
      "metadata": {
        "id": "bod3AKIgrekZ"
      },
      "execution_count": null,
      "outputs": []
    },
    {
      "cell_type": "code",
      "source": [
        "#데이터 로드\n",
        "(train_images, train_labels), (test_images, test_labels) = mnist.load_data()\n",
        "\n",
        "train_images = train_images.reshape((train_images.shape[0], 28 * 28)) / 255.0\n",
        "test_images = test_images.reshape((test_images.shape[0], 28 * 28)) / 255.0\n",
        "\n",
        "#k-means clustering 시행\n",
        "kmeans = KMeans(n_clusters=2,random_state=2023)\n",
        "kmeans.fit(train_images)\n",
        "cluster_labels = kmeans.labels_\n",
        "\n",
        "clusters = {}\n",
        "for i, label in enumerate(cluster_labels):\n",
        "    if label not in clusters:\n",
        "        clusters[label] = []\n",
        "    clusters[label].append(i)\n",
        "\n",
        "restructured_train_images = []\n",
        "restructured_train_labels = []\n",
        "for cluster in clusters.values():\n",
        "    for i in range(0, len(cluster), 4):\n",
        "        unit = cluster[i:i+4]\n",
        "        restructured_train_images.extend(train_images[unit])\n",
        "        restructured_train_labels.extend(train_labels[unit])\n",
        "\n",
        "restructured_train_images = np.array(restructured_train_images)\n",
        "restructured_train_labels = np.array(restructured_train_labels)\n",
        "\n",
        "#텐서로 바꾸기\n",
        "restructured_train_images = tf.convert_to_tensor(restructured_train_images, dtype=tf.float32)\n",
        "restructured_train_labels = tf.convert_to_tensor(restructured_train_labels, dtype=tf.uint8)\n",
        "train_labels_categorical = to_categorical(restructured_train_labels, num_classes=10)\n",
        "test_labels_categorical = to_categorical(test_labels, num_classes=10)"
      ],
      "metadata": {
        "colab": {
          "base_uri": "https://localhost:8080/"
        },
        "id": "lBG3hURaaXK6",
        "outputId": "935cf4cd-cc64-4caf-fe74-b1b49c50ccf0"
      },
      "execution_count": null,
      "outputs": [
        {
          "output_type": "stream",
          "name": "stderr",
          "text": [
            "/usr/local/lib/python3.10/dist-packages/sklearn/cluster/_kmeans.py:870: FutureWarning: The default value of `n_init` will change from 10 to 'auto' in 1.4. Set the value of `n_init` explicitly to suppress the warning\n",
            "  warnings.warn(\n"
          ]
        }
      ]
    },
    {
      "cell_type": "code",
      "source": [
        "restructured_train_images = tf.reshape(restructured_train_images, (60000, 784, 1))\n",
        "test_images = tf.reshape(test_images, (-1, 784, 1))"
      ],
      "metadata": {
        "id": "ODsitP2naktc"
      },
      "execution_count": null,
      "outputs": []
    },
    {
      "cell_type": "code",
      "source": [
        "def _rnn_reformat(x, input_dims, n_steps):\n",
        "\n",
        "\n",
        "    x_ = tf.transpose(x, [1, 0, 2])\n",
        "\n",
        "    x_ = tf.reshape(x_, [-1, input_dims])\n",
        "\n",
        "    x_reformat = tf.split(x_, n_steps, 0)\n",
        "\n",
        "    return x_reformat\n",
        "\n",
        "x_reformat=_rnn_reformat(restructured_train_images, 1, 28*28)\n",
        "x_reformat_test=_rnn_reformat(test_images , 1, 28*28)"
      ],
      "metadata": {
        "id": "8VgO2qukanMo"
      },
      "execution_count": null,
      "outputs": []
    },
    {
      "cell_type": "code",
      "source": [
        "model = MyModel( 10)\n",
        "model.compile(loss='CategoricalCrossentropy', optimizer='adam', metrics=['accuracy'])"
      ],
      "metadata": {
        "id": "iZzmEf7LarDf"
      },
      "execution_count": null,
      "outputs": []
    },
    {
      "cell_type": "code",
      "source": [
        "model.fit(x_reformat,train_labels_categorical, batch_size=128, epochs=10, validation_data=(x_reformat_test, test_labels_categorical))"
      ],
      "metadata": {
        "colab": {
          "base_uri": "https://localhost:8080/"
        },
        "id": "DBwamvBPbJuH",
        "outputId": "28e92cc9-a2b9-49dd-e00f-bc17fce013b9"
      },
      "execution_count": null,
      "outputs": [
        {
          "output_type": "stream",
          "name": "stdout",
          "text": [
            "Epoch 1/10\n",
            "Building layer: default, input length: 784, dilation rate: 16, input dim: 1.\n",
            "=====> Input length for sub-RNN: 49\n",
            "Building layer: default, input length: 784, dilation rate: 32, input dim: 20.\n",
            "=====> 16 time points need to be padded. \n",
            "=====> Input length for sub-RNN: 25\n",
            "Building layer: default, input length: 784, dilation rate: 64, input dim: 20.\n",
            "=====> 48 time points need to be padded. \n",
            "=====> Input length for sub-RNN: 13\n",
            "Building layer: default, input length: 784, dilation rate: 128, input dim: 20.\n",
            "=====> 112 time points need to be padded. \n",
            "=====> Input length for sub-RNN: 7\n",
            "Building layer: default, input length: 784, dilation rate: 256, input dim: 20.\n",
            "=====> 240 time points need to be padded. \n",
            "=====> Input length for sub-RNN: 4\n",
            "Building layer: default, input length: 784, dilation rate: 16, input dim: 1.\n",
            "=====> Input length for sub-RNN: 49\n",
            "Building layer: default, input length: 784, dilation rate: 32, input dim: 20.\n",
            "=====> 16 time points need to be padded. \n",
            "=====> Input length for sub-RNN: 25\n",
            "Building layer: default, input length: 784, dilation rate: 64, input dim: 20.\n",
            "=====> 48 time points need to be padded. \n",
            "=====> Input length for sub-RNN: 13\n",
            "Building layer: default, input length: 784, dilation rate: 128, input dim: 20.\n",
            "=====> 112 time points need to be padded. \n",
            "=====> Input length for sub-RNN: 7\n",
            "Building layer: default, input length: 784, dilation rate: 256, input dim: 20.\n",
            "=====> 240 time points need to be padded. \n",
            "=====> Input length for sub-RNN: 4\n",
            "469/469 [==============================] - ETA: 0s - loss: 0.2923 - accuracy: 0.9115Building layer: default, input length: 784, dilation rate: 16, input dim: 1.\n",
            "=====> Input length for sub-RNN: 49\n",
            "Building layer: default, input length: 784, dilation rate: 32, input dim: 20.\n",
            "=====> 16 time points need to be padded. \n",
            "=====> Input length for sub-RNN: 25\n",
            "Building layer: default, input length: 784, dilation rate: 64, input dim: 20.\n",
            "=====> 48 time points need to be padded. \n",
            "=====> Input length for sub-RNN: 13\n",
            "Building layer: default, input length: 784, dilation rate: 128, input dim: 20.\n",
            "=====> 112 time points need to be padded. \n",
            "=====> Input length for sub-RNN: 7\n",
            "Building layer: default, input length: 784, dilation rate: 256, input dim: 20.\n",
            "=====> 240 time points need to be padded. \n",
            "=====> Input length for sub-RNN: 4\n",
            "469/469 [==============================] - 77s 143ms/step - loss: 0.2923 - accuracy: 0.9115 - val_loss: 0.1629 - val_accuracy: 0.9498\n",
            "Epoch 2/10\n",
            "469/469 [==============================] - 62s 131ms/step - loss: 0.1423 - accuracy: 0.9563 - val_loss: 0.1182 - val_accuracy: 0.9646\n",
            "Epoch 3/10\n",
            "469/469 [==============================] - 63s 135ms/step - loss: 0.1055 - accuracy: 0.9672 - val_loss: 0.1197 - val_accuracy: 0.9643\n",
            "Epoch 4/10\n",
            "469/469 [==============================] - 62s 132ms/step - loss: 0.0885 - accuracy: 0.9716 - val_loss: 0.1234 - val_accuracy: 0.9626\n",
            "Epoch 5/10\n",
            "469/469 [==============================] - 62s 132ms/step - loss: 0.0681 - accuracy: 0.9782 - val_loss: 0.1155 - val_accuracy: 0.9661\n",
            "Epoch 6/10\n",
            "469/469 [==============================] - 61s 130ms/step - loss: 0.0572 - accuracy: 0.9809 - val_loss: 0.1137 - val_accuracy: 0.9672\n",
            "Epoch 7/10\n",
            "469/469 [==============================] - 61s 131ms/step - loss: 0.0503 - accuracy: 0.9831 - val_loss: 0.1121 - val_accuracy: 0.9686\n",
            "Epoch 8/10\n",
            "469/469 [==============================] - 60s 128ms/step - loss: 0.0425 - accuracy: 0.9855 - val_loss: 0.1243 - val_accuracy: 0.9666\n",
            "Epoch 9/10\n",
            "469/469 [==============================] - 60s 128ms/step - loss: 0.0371 - accuracy: 0.9871 - val_loss: 0.1304 - val_accuracy: 0.9658\n",
            "Epoch 10/10\n",
            "469/469 [==============================] - 60s 128ms/step - loss: 0.0358 - accuracy: 0.9870 - val_loss: 0.1248 - val_accuracy: 0.9690\n"
          ]
        },
        {
          "output_type": "execute_result",
          "data": {
            "text/plain": [
              "<keras.callbacks.History at 0x7f5efeb8df60>"
            ]
          },
          "metadata": {},
          "execution_count": 88
        }
      ]
    },
    {
      "cell_type": "code",
      "source": [
        "model.summary()"
      ],
      "metadata": {
        "id": "eoako87I2Y0T",
        "colab": {
          "base_uri": "https://localhost:8080/"
        },
        "outputId": "1ee323e9-6795-46c7-ca4f-8b59189d0649"
      },
      "execution_count": null,
      "outputs": [
        {
          "output_type": "stream",
          "name": "stdout",
          "text": [
            "Model: \"my_model_4\"\n",
            "_________________________________________________________________\n",
            " Layer (type)                Output Shape              Param #   \n",
            "=================================================================\n",
            " simple_rnn_cell_36 (SimpleR  multiple                 0 (unused)\n",
            " NNCell)                                                         \n",
            "                                                                 \n",
            " simple_rnn_cell_37 (SimpleR  multiple                 0 (unused)\n",
            " NNCell)                                                         \n",
            "                                                                 \n",
            " simple_rnn_cell_38 (SimpleR  multiple                 0 (unused)\n",
            " NNCell)                                                         \n",
            "                                                                 \n",
            " simple_rnn_cell_39 (SimpleR  multiple                 0 (unused)\n",
            " NNCell)                                                         \n",
            "                                                                 \n",
            " simple_rnn_cell_40 (SimpleR  multiple                 440       \n",
            " NNCell)                                                         \n",
            "                                                                 \n",
            " simple_rnn_cell_41 (SimpleR  multiple                 820       \n",
            " NNCell)                                                         \n",
            "                                                                 \n",
            " simple_rnn_cell_42 (SimpleR  multiple                 820       \n",
            " NNCell)                                                         \n",
            "                                                                 \n",
            " simple_rnn_cell_43 (SimpleR  multiple                 820       \n",
            " NNCell)                                                         \n",
            "                                                                 \n",
            " simple_rnn_cell_44 (SimpleR  multiple                 820       \n",
            " NNCell)                                                         \n",
            "                                                                 \n",
            " dense_24 (Dense)            multiple                  1710      \n",
            "                                                                 \n",
            " dense_25 (Dense)            multiple                  0 (unused)\n",
            "                                                                 \n",
            " flatten_12 (Flatten)        multiple                  0         \n",
            "                                                                 \n",
            " conv2d_15 (Conv2D)          multiple                  31370     \n",
            "                                                                 \n",
            "=================================================================\n",
            "Total params: 36,800\n",
            "Trainable params: 36,800\n",
            "Non-trainable params: 0\n",
            "_________________________________________________________________\n"
          ]
        }
      ]
    },
    {
      "cell_type": "code",
      "source": [
        "# print(model.evaluate(restructured_train_images,restructured_train_labels,verbose=1))"
      ],
      "metadata": {
        "id": "NAfWMGAH2HeP"
      },
      "execution_count": null,
      "outputs": []
    },
    {
      "cell_type": "code",
      "source": [
        "print(model.evaluate(x_reformat_test, test_labels_categorical,verbose=1))"
      ],
      "metadata": {
        "id": "E0WrA1yf4Yso",
        "colab": {
          "base_uri": "https://localhost:8080/"
        },
        "outputId": "b74c5849-6c99-4891-9e4f-eaf53583a454"
      },
      "execution_count": null,
      "outputs": [
        {
          "output_type": "stream",
          "name": "stdout",
          "text": [
            "313/313 [==============================] - 15s 47ms/step - loss: 0.1248 - accuracy: 0.9690\n",
            "[0.12478719651699066, 0.968999981880188]\n"
          ]
        }
      ]
    },
    {
      "cell_type": "markdown",
      "source": [
        "#검증실험2"
      ],
      "metadata": {
        "id": "KZ9ueC5F1zEn"
      }
    },
    {
      "cell_type": "code",
      "source": [
        "###유사도 기준 검증실험2\n",
        "#unit 1기준 유사도가 대비되는 데이터가 unit 2,3,4에 들어감"
      ],
      "metadata": {
        "id": "HVVmZ08IXGUt"
      },
      "execution_count": null,
      "outputs": []
    },
    {
      "cell_type": "code",
      "source": [
        "# 데이터 로드\n",
        "(train_images, train_labels), (test_images, test_labels) = mnist.load_data()\n",
        "\n",
        "train_images = train_images.reshape((train_images.shape[0], 28 * 28)) / 255.0\n",
        "test_images = test_images.reshape((test_images.shape[0], 28 * 28)) / 255.0\n",
        "\n",
        "# k-means 클러스터링\n",
        "kmeans = KMeans(n_clusters=5, random_state=2023)\n",
        "kmeans.fit(train_images)\n",
        "cluster_labels = kmeans.labels_\n",
        "\n",
        "clusters = {}\n",
        "for i, label in enumerate(cluster_labels):\n",
        "    if label not in clusters:\n",
        "        clusters[label] = []\n",
        "    clusters[label].append(i)\n",
        "\n",
        "restructured_train_images = []\n",
        "restructured_train_labels = []\n",
        "\n",
        "# 각 클러스터에서 동일한 개수의 데이터를 선택하여 재구성\n",
        "max_length = max(len(clusters[i]) for i in range(5))\n",
        "\n",
        "for i in range(max_length):\n",
        "    for cluster_name in range(5):  # 0, 1, 2, 3, 4\n",
        "        cluster = clusters[cluster_name]\n",
        "        if i < len(cluster):\n",
        "            unit = cluster[i]\n",
        "            restructured_train_images.append(train_images[unit])\n",
        "            restructured_train_labels.append(train_labels[unit])\n",
        "\n",
        "restructured_train_images = np.array(restructured_train_images)\n",
        "restructured_train_labels = np.array(restructured_train_labels)\n",
        "\n",
        "# 텐서로 변환\n",
        "restructured_train_images = tf.convert_to_tensor(restructured_train_images, dtype=tf.float32)\n",
        "restructured_train_labels = tf.convert_to_tensor(restructured_train_labels, dtype=tf.uint8)\n",
        "train_labels_categorical = to_categorical(restructured_train_labels, num_classes=10)\n",
        "test_labels_categorical = to_categorical(test_labels, num_classes=10)"
      ],
      "metadata": {
        "colab": {
          "base_uri": "https://localhost:8080/"
        },
        "id": "C134vYZ4bwSb",
        "outputId": "75ac7715-361c-46e7-e929-81c241a12033"
      },
      "execution_count": null,
      "outputs": [
        {
          "output_type": "stream",
          "name": "stderr",
          "text": [
            "/usr/local/lib/python3.10/dist-packages/sklearn/cluster/_kmeans.py:870: FutureWarning: The default value of `n_init` will change from 10 to 'auto' in 1.4. Set the value of `n_init` explicitly to suppress the warning\n",
            "  warnings.warn(\n"
          ]
        }
      ]
    },
    {
      "cell_type": "code",
      "source": [
        "restructured_train_images = tf.reshape(restructured_train_images, (60000, 784, 1))\n",
        "test_images = tf.reshape(test_images, (-1, 784, 1))\n",
        "\n",
        "def _rnn_reformat(x, input_dims, n_steps):\n",
        "\n",
        "\n",
        "    x_ = tf.transpose(x, [1, 0, 2])\n",
        "\n",
        "    x_ = tf.reshape(x_, [-1, input_dims])\n",
        "\n",
        "    x_reformat = tf.split(x_, n_steps, 0)\n",
        "\n",
        "    return x_reformat\n",
        "\n",
        "x_reformat=_rnn_reformat(restructured_train_images, 1, 28*28)\n",
        "x_reformat_test=_rnn_reformat(test_images , 1, 28*28)"
      ],
      "metadata": {
        "id": "87t9e_4veOox"
      },
      "execution_count": null,
      "outputs": []
    },
    {
      "cell_type": "code",
      "source": [
        "model = MyModel(10)\n",
        "model.compile(loss='CategoricalCrossentropy', optimizer='adam', metrics=['accuracy'])\n",
        "model.fit(x_reformat,train_labels_categorical, batch_size=128, epochs=10, validation_data=(x_reformat_test, test_labels_categorical))"
      ],
      "metadata": {
        "colab": {
          "base_uri": "https://localhost:8080/"
        },
        "id": "k7bHGq93edbE",
        "outputId": "ff55aa53-d983-48df-ed21-d315ef3ff85f"
      },
      "execution_count": null,
      "outputs": [
        {
          "output_type": "stream",
          "name": "stdout",
          "text": [
            "Epoch 1/10\n",
            "Building layer: default, input length: 784, dilation rate: 16, input dim: 1.\n",
            "=====> Input length for sub-RNN: 49\n",
            "Building layer: default, input length: 784, dilation rate: 32, input dim: 20.\n",
            "=====> 16 time points need to be padded. \n",
            "=====> Input length for sub-RNN: 25\n",
            "Building layer: default, input length: 784, dilation rate: 64, input dim: 20.\n",
            "=====> 48 time points need to be padded. \n",
            "=====> Input length for sub-RNN: 13\n",
            "Building layer: default, input length: 784, dilation rate: 128, input dim: 20.\n",
            "=====> 112 time points need to be padded. \n",
            "=====> Input length for sub-RNN: 7\n",
            "Building layer: default, input length: 784, dilation rate: 256, input dim: 20.\n",
            "=====> 240 time points need to be padded. \n",
            "=====> Input length for sub-RNN: 4\n",
            "Building layer: default, input length: 784, dilation rate: 16, input dim: 1.\n",
            "=====> Input length for sub-RNN: 49\n",
            "Building layer: default, input length: 784, dilation rate: 32, input dim: 20.\n",
            "=====> 16 time points need to be padded. \n",
            "=====> Input length for sub-RNN: 25\n",
            "Building layer: default, input length: 784, dilation rate: 64, input dim: 20.\n",
            "=====> 48 time points need to be padded. \n",
            "=====> Input length for sub-RNN: 13\n",
            "Building layer: default, input length: 784, dilation rate: 128, input dim: 20.\n",
            "=====> 112 time points need to be padded. \n",
            "=====> Input length for sub-RNN: 7\n",
            "Building layer: default, input length: 784, dilation rate: 256, input dim: 20.\n",
            "=====> 240 time points need to be padded. \n",
            "=====> Input length for sub-RNN: 4\n",
            "469/469 [==============================] - ETA: 0s - loss: 0.2927 - accuracy: 0.9101Building layer: default, input length: 784, dilation rate: 16, input dim: 1.\n",
            "=====> Input length for sub-RNN: 49\n",
            "Building layer: default, input length: 784, dilation rate: 32, input dim: 20.\n",
            "=====> 16 time points need to be padded. \n",
            "=====> Input length for sub-RNN: 25\n",
            "Building layer: default, input length: 784, dilation rate: 64, input dim: 20.\n",
            "=====> 48 time points need to be padded. \n",
            "=====> Input length for sub-RNN: 13\n",
            "Building layer: default, input length: 784, dilation rate: 128, input dim: 20.\n",
            "=====> 112 time points need to be padded. \n",
            "=====> Input length for sub-RNN: 7\n",
            "Building layer: default, input length: 784, dilation rate: 256, input dim: 20.\n",
            "=====> 240 time points need to be padded. \n",
            "=====> Input length for sub-RNN: 4\n",
            "469/469 [==============================] - 76s 141ms/step - loss: 0.2927 - accuracy: 0.9101 - val_loss: 0.1645 - val_accuracy: 0.9494\n",
            "Epoch 2/10\n",
            "469/469 [==============================] - 60s 128ms/step - loss: 0.1412 - accuracy: 0.9571 - val_loss: 0.1425 - val_accuracy: 0.9566\n",
            "Epoch 3/10\n",
            "469/469 [==============================] - 60s 128ms/step - loss: 0.1028 - accuracy: 0.9678 - val_loss: 0.1169 - val_accuracy: 0.9650\n",
            "Epoch 4/10\n",
            "469/469 [==============================] - 60s 127ms/step - loss: 0.0825 - accuracy: 0.9740 - val_loss: 0.1215 - val_accuracy: 0.9638\n",
            "Epoch 5/10\n",
            "469/469 [==============================] - 60s 128ms/step - loss: 0.0660 - accuracy: 0.9784 - val_loss: 0.1070 - val_accuracy: 0.9705\n",
            "Epoch 6/10\n",
            "469/469 [==============================] - 59s 127ms/step - loss: 0.0574 - accuracy: 0.9810 - val_loss: 0.1268 - val_accuracy: 0.9628\n",
            "Epoch 7/10\n",
            "469/469 [==============================] - 59s 127ms/step - loss: 0.0528 - accuracy: 0.9824 - val_loss: 0.1156 - val_accuracy: 0.9668\n",
            "Epoch 8/10\n",
            "469/469 [==============================] - 59s 127ms/step - loss: 0.0397 - accuracy: 0.9870 - val_loss: 0.1381 - val_accuracy: 0.9628\n",
            "Epoch 9/10\n",
            "469/469 [==============================] - 60s 127ms/step - loss: 0.0354 - accuracy: 0.9882 - val_loss: 0.1266 - val_accuracy: 0.9666\n",
            "Epoch 10/10\n",
            "469/469 [==============================] - 60s 128ms/step - loss: 0.0348 - accuracy: 0.9878 - val_loss: 0.1421 - val_accuracy: 0.9646\n"
          ]
        },
        {
          "output_type": "execute_result",
          "data": {
            "text/plain": [
              "<keras.callbacks.History at 0x7f5ef12c1720>"
            ]
          },
          "metadata": {},
          "execution_count": 69
        }
      ]
    },
    {
      "cell_type": "code",
      "source": [
        "model.summary()"
      ],
      "metadata": {
        "colab": {
          "base_uri": "https://localhost:8080/"
        },
        "id": "V9vYbjYf2i_s",
        "outputId": "0e5b9e7d-2209-4db5-d741-4bf1143ed077"
      },
      "execution_count": null,
      "outputs": [
        {
          "output_type": "stream",
          "name": "stdout",
          "text": [
            "Model: \"my_model_4\"\n",
            "_________________________________________________________________\n",
            " Layer (type)                Output Shape              Param #   \n",
            "=================================================================\n",
            " simple_rnn_cell_36 (SimpleR  multiple                 0 (unused)\n",
            " NNCell)                                                         \n",
            "                                                                 \n",
            " simple_rnn_cell_37 (SimpleR  multiple                 0 (unused)\n",
            " NNCell)                                                         \n",
            "                                                                 \n",
            " simple_rnn_cell_38 (SimpleR  multiple                 0 (unused)\n",
            " NNCell)                                                         \n",
            "                                                                 \n",
            " simple_rnn_cell_39 (SimpleR  multiple                 0 (unused)\n",
            " NNCell)                                                         \n",
            "                                                                 \n",
            " simple_rnn_cell_40 (SimpleR  multiple                 440       \n",
            " NNCell)                                                         \n",
            "                                                                 \n",
            " simple_rnn_cell_41 (SimpleR  multiple                 820       \n",
            " NNCell)                                                         \n",
            "                                                                 \n",
            " simple_rnn_cell_42 (SimpleR  multiple                 820       \n",
            " NNCell)                                                         \n",
            "                                                                 \n",
            " simple_rnn_cell_43 (SimpleR  multiple                 820       \n",
            " NNCell)                                                         \n",
            "                                                                 \n",
            " simple_rnn_cell_44 (SimpleR  multiple                 820       \n",
            " NNCell)                                                         \n",
            "                                                                 \n",
            " dense_24 (Dense)            multiple                  1710      \n",
            "                                                                 \n",
            " dense_25 (Dense)            multiple                  0 (unused)\n",
            "                                                                 \n",
            " flatten_12 (Flatten)        multiple                  0         \n",
            "                                                                 \n",
            " conv2d_15 (Conv2D)          multiple                  31370     \n",
            "                                                                 \n",
            "=================================================================\n",
            "Total params: 36,800\n",
            "Trainable params: 36,800\n",
            "Non-trainable params: 0\n",
            "_________________________________________________________________\n"
          ]
        }
      ]
    },
    {
      "cell_type": "code",
      "source": [
        "# print(model.evaluate(restructured_train_images,restructured_train_labels,verbose=1))"
      ],
      "metadata": {
        "id": "EC1XjvLN2jCn"
      },
      "execution_count": null,
      "outputs": []
    },
    {
      "cell_type": "code",
      "source": [
        "print(model.evaluate(x_reformat_test, test_labels_categorical,verbose=1))"
      ],
      "metadata": {
        "id": "p6ko05Us3_DF",
        "colab": {
          "base_uri": "https://localhost:8080/"
        },
        "outputId": "767671fe-f63d-4998-a19c-90a1fbbd1cfb"
      },
      "execution_count": null,
      "outputs": [
        {
          "output_type": "stream",
          "name": "stdout",
          "text": [
            "313/313 [==============================] - 16s 48ms/step - loss: 0.1421 - accuracy: 0.9646\n",
            "[0.1420714557170868, 0.9646000266075134]\n"
          ]
        }
      ]
    },
    {
      "cell_type": "markdown",
      "source": [
        "#검증실험3"
      ],
      "metadata": {
        "id": "P_a_mJYI20RF"
      }
    },
    {
      "cell_type": "code",
      "source": [
        "###유사도 기준 검증실험3\n",
        "#unit 1기준 랜덤의 유사도 데이터가 unit 2,3,4에 들어감"
      ],
      "metadata": {
        "id": "Ftme17slXTvd"
      },
      "execution_count": null,
      "outputs": []
    },
    {
      "cell_type": "code",
      "source": [
        "# 데이터 로드\n",
        "(train_images, train_labels), (test_images, test_labels) = mnist.load_data()\n",
        "\n",
        "train_images = train_images.reshape((train_images.shape[0], 28 * 28)) / 255.0\n",
        "test_images = test_images.reshape((test_images.shape[0], 28 * 28)) / 255.0\n",
        "\n",
        "# k-means 클러스터링\n",
        "kmeans = KMeans(n_clusters=5, random_state=2023)\n",
        "kmeans.fit(train_images)\n",
        "cluster_labels = kmeans.labels_\n",
        "\n",
        "clusters = {}\n",
        "for i, label in enumerate(cluster_labels):\n",
        "    if label not in clusters:\n",
        "        clusters[label] = []\n",
        "    clusters[label].append(i)\n",
        "\n",
        "# First, combine all the data from the groups\n",
        "combined_data = []\n",
        "for cluster_name in range(5):  # 0, 1, 2, 3, 4\n",
        "    cluster = clusters[cluster_name]\n",
        "    for unit in cluster:\n",
        "        combined_data.append((train_images[unit], train_labels[unit]))\n",
        "\n",
        "# Now, shuffle the combined data\n",
        "random.shuffle(combined_data)\n",
        "\n",
        "# Finally, split the shuffled data back into images and labels\n",
        "restructured_train_images, restructured_train_labels = zip(*combined_data)\n",
        "\n",
        "restructured_train_images = np.array(restructured_train_images)\n",
        "restructured_train_labels = np.array(restructured_train_labels)\n",
        "\n",
        "# 텐서로 변환\n",
        "restructured_train_images = tf.convert_to_tensor(restructured_train_images, dtype=tf.float32)\n",
        "restructured_train_labels = tf.convert_to_tensor(restructured_train_labels, dtype=tf.uint8)\n",
        "train_labels_categorical = to_categorical(restructured_train_labels, num_classes=10)\n",
        "test_labels_categorical = to_categorical(test_labels, num_classes=10)"
      ],
      "metadata": {
        "colab": {
          "base_uri": "https://localhost:8080/"
        },
        "id": "RAu6V7hfes8B",
        "outputId": "68a65f9a-2d2c-4284-8927-c1d238e0367d"
      },
      "execution_count": null,
      "outputs": [
        {
          "output_type": "stream",
          "name": "stderr",
          "text": [
            "/usr/local/lib/python3.10/dist-packages/sklearn/cluster/_kmeans.py:870: FutureWarning: The default value of `n_init` will change from 10 to 'auto' in 1.4. Set the value of `n_init` explicitly to suppress the warning\n",
            "  warnings.warn(\n"
          ]
        }
      ]
    },
    {
      "cell_type": "code",
      "source": [
        "# 데이터 로드\n",
        "(train_images, train_labels), (test_images, test_labels) = mnist.load_data()\n",
        "\n",
        "train_images = train_images.reshape((train_images.shape[0], 28 * 28)) / 255.0\n",
        "test_images = test_images.reshape((test_images.shape[0], 28 * 28)) / 255.0\n",
        "\n",
        "# 데이터 섞기\n",
        "combined_data = list(zip(train_images, train_labels))\n",
        "random.shuffle(combined_data)\n",
        "\n",
        "restructured_train_images, restructured_train_labels = zip(*combined_data)\n",
        "\n",
        "restructured_train_images = np.array(restructured_train_images)\n",
        "restructured_train_labels = np.array(restructured_train_labels)\n",
        "\n",
        "# 텐서로 변환\n",
        "restructured_train_images = tf.convert_to_tensor(restructured_train_images, dtype=tf.float32)\n",
        "restructured_train_labels = tf.convert_to_tensor(restructured_train_labels, dtype=tf.uint8)\n",
        "train_labels_categorical = to_categorical(restructured_train_labels, num_classes=10)\n",
        "test_labels_categorical = to_categorical(test_labels, num_classes=10)"
      ],
      "metadata": {
        "id": "hHmiR1Nuxrd-"
      },
      "execution_count": null,
      "outputs": []
    },
    {
      "cell_type": "code",
      "source": [
        "restructured_train_images = tf.reshape(restructured_train_images, (60000, 784, 1))\n",
        "test_images = tf.reshape(test_images, (-1, 784, 1))\n",
        "\n",
        "def _rnn_reformat(x, input_dims, n_steps):\n",
        "\n",
        "\n",
        "    x_ = tf.transpose(x, [1, 0, 2])\n",
        "\n",
        "    x_ = tf.reshape(x_, [-1, input_dims])\n",
        "\n",
        "    x_reformat = tf.split(x_, n_steps, 0)\n",
        "\n",
        "    return x_reformat\n",
        "\n",
        "x_reformat=_rnn_reformat(restructured_train_images, 1, 28*28)\n",
        "x_reformat_test=_rnn_reformat(test_images , 1, 28*28)\n",
        "model = MyModel(10)\n",
        "model.compile(loss='CategoricalCrossentropy', optimizer='adam', metrics=['accuracy'])\n",
        "model.fit(x_reformat,train_labels_categorical, batch_size=128, epochs=10, validation_data=(x_reformat_test, test_labels_categorical))"
      ],
      "metadata": {
        "colab": {
          "base_uri": "https://localhost:8080/"
        },
        "id": "kS0msDAser2-",
        "outputId": "cd3dd5b1-a648-4b1f-89c6-63a448b32af1"
      },
      "execution_count": null,
      "outputs": [
        {
          "output_type": "stream",
          "name": "stdout",
          "text": [
            "Epoch 1/10\n",
            "Building layer: default, input length: 784, dilation rate: 16, input dim: 1.\n",
            "=====> Input length for sub-RNN: 49\n",
            "Building layer: default, input length: 784, dilation rate: 32, input dim: 20.\n",
            "=====> 16 time points need to be padded. \n",
            "=====> Input length for sub-RNN: 25\n",
            "Building layer: default, input length: 784, dilation rate: 64, input dim: 20.\n",
            "=====> 48 time points need to be padded. \n",
            "=====> Input length for sub-RNN: 13\n",
            "Building layer: default, input length: 784, dilation rate: 128, input dim: 20.\n",
            "=====> 112 time points need to be padded. \n",
            "=====> Input length for sub-RNN: 7\n",
            "Building layer: default, input length: 784, dilation rate: 256, input dim: 20.\n",
            "=====> 240 time points need to be padded. \n",
            "=====> Input length for sub-RNN: 4\n",
            "Building layer: default, input length: 784, dilation rate: 16, input dim: 1.\n",
            "=====> Input length for sub-RNN: 49\n",
            "Building layer: default, input length: 784, dilation rate: 32, input dim: 20.\n",
            "=====> 16 time points need to be padded. \n",
            "=====> Input length for sub-RNN: 25\n",
            "Building layer: default, input length: 784, dilation rate: 64, input dim: 20.\n",
            "=====> 48 time points need to be padded. \n",
            "=====> Input length for sub-RNN: 13\n",
            "Building layer: default, input length: 784, dilation rate: 128, input dim: 20.\n",
            "=====> 112 time points need to be padded. \n",
            "=====> Input length for sub-RNN: 7\n",
            "Building layer: default, input length: 784, dilation rate: 256, input dim: 20.\n",
            "=====> 240 time points need to be padded. \n",
            "=====> Input length for sub-RNN: 4\n",
            "469/469 [==============================] - ETA: 0s - loss: 0.2897 - accuracy: 0.9116Building layer: default, input length: 784, dilation rate: 16, input dim: 1.\n",
            "=====> Input length for sub-RNN: 49\n",
            "Building layer: default, input length: 784, dilation rate: 32, input dim: 20.\n",
            "=====> 16 time points need to be padded. \n",
            "=====> Input length for sub-RNN: 25\n",
            "Building layer: default, input length: 784, dilation rate: 64, input dim: 20.\n",
            "=====> 48 time points need to be padded. \n",
            "=====> Input length for sub-RNN: 13\n",
            "Building layer: default, input length: 784, dilation rate: 128, input dim: 20.\n",
            "=====> 112 time points need to be padded. \n",
            "=====> Input length for sub-RNN: 7\n",
            "Building layer: default, input length: 784, dilation rate: 256, input dim: 20.\n",
            "=====> 240 time points need to be padded. \n",
            "=====> Input length for sub-RNN: 4\n",
            "469/469 [==============================] - 73s 134ms/step - loss: 0.2897 - accuracy: 0.9116 - val_loss: 0.1645 - val_accuracy: 0.9476\n",
            "Epoch 2/10\n",
            "469/469 [==============================] - 60s 127ms/step - loss: 0.1441 - accuracy: 0.9554 - val_loss: 0.1299 - val_accuracy: 0.9581\n",
            "Epoch 3/10\n",
            "469/469 [==============================] - 60s 127ms/step - loss: 0.1041 - accuracy: 0.9669 - val_loss: 0.1155 - val_accuracy: 0.9648\n",
            "Epoch 4/10\n",
            "469/469 [==============================] - 59s 127ms/step - loss: 0.0816 - accuracy: 0.9746 - val_loss: 0.1079 - val_accuracy: 0.9668\n",
            "Epoch 5/10\n",
            "469/469 [==============================] - 59s 127ms/step - loss: 0.0656 - accuracy: 0.9785 - val_loss: 0.1284 - val_accuracy: 0.9608\n",
            "Epoch 6/10\n",
            "469/469 [==============================] - 60s 127ms/step - loss: 0.0574 - accuracy: 0.9813 - val_loss: 0.1055 - val_accuracy: 0.9695\n",
            "Epoch 7/10\n",
            "469/469 [==============================] - 60s 127ms/step - loss: 0.0468 - accuracy: 0.9845 - val_loss: 0.1149 - val_accuracy: 0.9682\n",
            "Epoch 8/10\n",
            "469/469 [==============================] - 60s 127ms/step - loss: 0.0417 - accuracy: 0.9852 - val_loss: 0.1127 - val_accuracy: 0.9684\n",
            "Epoch 9/10\n",
            "469/469 [==============================] - 60s 128ms/step - loss: 0.0349 - accuracy: 0.9881 - val_loss: 0.1417 - val_accuracy: 0.9639\n",
            "Epoch 10/10\n",
            "469/469 [==============================] - 60s 127ms/step - loss: 0.0341 - accuracy: 0.9884 - val_loss: 0.1299 - val_accuracy: 0.9674\n"
          ]
        },
        {
          "output_type": "execute_result",
          "data": {
            "text/plain": [
              "<keras.callbacks.History at 0x7f5f0709c250>"
            ]
          },
          "metadata": {},
          "execution_count": 95
        }
      ]
    },
    {
      "cell_type": "code",
      "source": [
        "model.summary()"
      ],
      "metadata": {
        "id": "Gsko389_2z0A",
        "colab": {
          "base_uri": "https://localhost:8080/"
        },
        "outputId": "664c8867-9662-410e-b338-d654229cd6f9"
      },
      "execution_count": null,
      "outputs": [
        {
          "output_type": "stream",
          "name": "stdout",
          "text": [
            "Model: \"my_model_8\"\n",
            "_________________________________________________________________\n",
            " Layer (type)                Output Shape              Param #   \n",
            "=================================================================\n",
            " simple_rnn_cell_72 (SimpleR  multiple                 0 (unused)\n",
            " NNCell)                                                         \n",
            "                                                                 \n",
            " simple_rnn_cell_73 (SimpleR  multiple                 0 (unused)\n",
            " NNCell)                                                         \n",
            "                                                                 \n",
            " simple_rnn_cell_74 (SimpleR  multiple                 0 (unused)\n",
            " NNCell)                                                         \n",
            "                                                                 \n",
            " simple_rnn_cell_75 (SimpleR  multiple                 0 (unused)\n",
            " NNCell)                                                         \n",
            "                                                                 \n",
            " simple_rnn_cell_76 (SimpleR  multiple                 440       \n",
            " NNCell)                                                         \n",
            "                                                                 \n",
            " simple_rnn_cell_77 (SimpleR  multiple                 820       \n",
            " NNCell)                                                         \n",
            "                                                                 \n",
            " simple_rnn_cell_78 (SimpleR  multiple                 820       \n",
            " NNCell)                                                         \n",
            "                                                                 \n",
            " simple_rnn_cell_79 (SimpleR  multiple                 820       \n",
            " NNCell)                                                         \n",
            "                                                                 \n",
            " simple_rnn_cell_80 (SimpleR  multiple                 820       \n",
            " NNCell)                                                         \n",
            "                                                                 \n",
            " dense_32 (Dense)            multiple                  1710      \n",
            "                                                                 \n",
            " dense_33 (Dense)            multiple                  0 (unused)\n",
            "                                                                 \n",
            " flatten_16 (Flatten)        multiple                  0         \n",
            "                                                                 \n",
            " conv2d_19 (Conv2D)          multiple                  31370     \n",
            "                                                                 \n",
            "=================================================================\n",
            "Total params: 36,800\n",
            "Trainable params: 36,800\n",
            "Non-trainable params: 0\n",
            "_________________________________________________________________\n"
          ]
        }
      ]
    },
    {
      "cell_type": "code",
      "source": [
        "print(model.evaluate(x_reformat_test, test_labels_categorical))"
      ],
      "metadata": {
        "id": "FzHUYRKs_Z7w",
        "colab": {
          "base_uri": "https://localhost:8080/"
        },
        "outputId": "82026dc5-369f-4700-c53f-88c1ef6980bc"
      },
      "execution_count": null,
      "outputs": [
        {
          "output_type": "stream",
          "name": "stdout",
          "text": [
            "313/313 [==============================] - 16s 48ms/step - loss: 0.1299 - accuracy: 0.9674\n",
            "[0.12989245355129242, 0.9674000144004822]\n"
          ]
        }
      ]
    },
    {
      "cell_type": "code",
      "source": [],
      "metadata": {
        "id": "FXU7r_ve_aBd"
      },
      "execution_count": null,
      "outputs": []
    },
    {
      "cell_type": "markdown",
      "source": [
        "#노이즈 추가"
      ],
      "metadata": {
        "id": "QS-Qax10n2ua"
      }
    },
    {
      "cell_type": "code",
      "source": [],
      "metadata": {
        "id": "_rrVW3KrSNJu"
      },
      "execution_count": null,
      "outputs": []
    },
    {
      "cell_type": "code",
      "source": [],
      "metadata": {
        "id": "JLdDDYmnSNM7"
      },
      "execution_count": null,
      "outputs": []
    },
    {
      "cell_type": "code",
      "source": [],
      "metadata": {
        "id": "bF_oHi6cSNQM"
      },
      "execution_count": null,
      "outputs": []
    }
  ]
}